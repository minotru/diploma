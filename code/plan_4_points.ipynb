{
 "cells": [
  {
   "cell_type": "code",
   "execution_count": 55,
   "metadata": {},
   "outputs": [],
   "source": [
    "from sympy import symbols, Matrix, MatrixSymbol, simplify, zeros\n",
    "import numpy as np"
   ]
  },
  {
   "cell_type": "code",
   "execution_count": 37,
   "metadata": {},
   "outputs": [],
   "source": [
    "points = Matrix([\n",
    "    [1, 1, 1],\n",
    "    [1, -1, 1],\n",
    "    [1, -1, -1],\n",
    "    [1, 1, -1]\n",
    "])\n",
    "d1, d2, d3, d4 = symbols('d1 d2 d3 d4')\n",
    "ds = [d1, d2, d3, d4]"
   ]
  },
  {
   "cell_type": "code",
   "execution_count": 52,
   "metadata": {},
   "outputs": [
    {
     "data": {
      "text/latex": [
       "$\\displaystyle \\left[\\begin{matrix}1 & 1 & 1\\\\1 & -1 & 1\\\\1 & -1 & -1\\\\1 & 1 & -1\\end{matrix}\\right]$"
      ],
      "text/plain": [
       "Matrix([\n",
       "[1,  1,  1],\n",
       "[1, -1,  1],\n",
       "[1, -1, -1],\n",
       "[1,  1, -1]])"
      ]
     },
     "execution_count": 52,
     "metadata": {},
     "output_type": "execute_result"
    }
   ],
   "source": [
    "points"
   ]
  },
  {
   "cell_type": "code",
   "execution_count": 57,
   "metadata": {},
   "outputs": [],
   "source": [
    "M = zeros(3, 3)\n",
    "for i in range(4):\n",
    "    M += 1 / ds[i] * points[i, :].T * points[i, :]"
   ]
  },
  {
   "cell_type": "code",
   "execution_count": 58,
   "metadata": {},
   "outputs": [
    {
     "data": {
      "text/latex": [
       "$\\displaystyle \\left[\\begin{matrix}\\frac{1}{4 d_{4}} + \\frac{1}{4 d_{3}} + \\frac{1}{4 d_{2}} + \\frac{1}{4 d_{1}} & \\frac{1}{4 d_{4}} - \\frac{1}{4 d_{3}} - \\frac{1}{4 d_{2}} + \\frac{1}{4 d_{1}} & - \\frac{1}{4 d_{4}} - \\frac{1}{4 d_{3}} + \\frac{1}{4 d_{2}} + \\frac{1}{4 d_{1}}\\\\\\frac{1}{4 d_{4}} - \\frac{1}{4 d_{3}} - \\frac{1}{4 d_{2}} + \\frac{1}{4 d_{1}} & \\frac{1}{4 d_{4}} + \\frac{1}{4 d_{3}} + \\frac{1}{4 d_{2}} + \\frac{1}{4 d_{1}} & - \\frac{1}{4 d_{4}} + \\frac{1}{4 d_{3}} - \\frac{1}{4 d_{2}} + \\frac{1}{4 d_{1}}\\\\- \\frac{1}{4 d_{4}} - \\frac{1}{4 d_{3}} + \\frac{1}{4 d_{2}} + \\frac{1}{4 d_{1}} & - \\frac{1}{4 d_{4}} + \\frac{1}{4 d_{3}} - \\frac{1}{4 d_{2}} + \\frac{1}{4 d_{1}} & \\frac{1}{4 d_{4}} + \\frac{1}{4 d_{3}} + \\frac{1}{4 d_{2}} + \\frac{1}{4 d_{1}}\\end{matrix}\\right]$"
      ],
      "text/plain": [
       "Matrix([\n",
       "[ 1/(4*d4) + 1/(4*d3) + 1/(4*d2) + 1/(4*d1),  1/(4*d4) - 1/(4*d3) - 1/(4*d2) + 1/(4*d1), -1/(4*d4) - 1/(4*d3) + 1/(4*d2) + 1/(4*d1)],\n",
       "[ 1/(4*d4) - 1/(4*d3) - 1/(4*d2) + 1/(4*d1),  1/(4*d4) + 1/(4*d3) + 1/(4*d2) + 1/(4*d1), -1/(4*d4) + 1/(4*d3) - 1/(4*d2) + 1/(4*d1)],\n",
       "[-1/(4*d4) - 1/(4*d3) + 1/(4*d2) + 1/(4*d1), -1/(4*d4) + 1/(4*d3) - 1/(4*d2) + 1/(4*d1),  1/(4*d4) + 1/(4*d3) + 1/(4*d2) + 1/(4*d1)]])"
      ]
     },
     "execution_count": 58,
     "metadata": {},
     "output_type": "execute_result"
    }
   ],
   "source": [
    "M * 1/4"
   ]
  },
  {
   "cell_type": "code",
   "execution_count": 59,
   "metadata": {},
   "outputs": [
    {
     "data": {
      "text/latex": [
       "$\\displaystyle \\left[\\begin{matrix}\\frac{d_{1} d_{2} + d_{1} d_{4} + d_{2} d_{3} + d_{3} d_{4}}{d_{1} + d_{2} + d_{3} + d_{4}} & \\frac{d_{1} d_{4} - d_{2} d_{3}}{d_{1} + d_{2} + d_{3} + d_{4}} & \\frac{d_{1} d_{2} - d_{3} d_{4}}{d_{1} + d_{2} + d_{3} + d_{4}}\\\\\\frac{d_{1} d_{4} - d_{2} d_{3}}{d_{1} + d_{2} + d_{3} + d_{4}} & \\frac{d_{1} d_{3} + d_{1} d_{4} + d_{2} d_{3} + d_{2} d_{4}}{d_{1} + d_{2} + d_{3} + d_{4}} & \\frac{d_{1} d_{3} - d_{2} d_{4}}{d_{1} + d_{2} + d_{3} + d_{4}}\\\\\\frac{d_{1} d_{2} - d_{3} d_{4}}{d_{1} + d_{2} + d_{3} + d_{4}} & \\frac{d_{1} d_{3} - d_{2} d_{4}}{d_{1} + d_{2} + d_{3} + d_{4}} & \\frac{d_{1} d_{2} + d_{1} d_{3} + d_{2} d_{4} + d_{3} d_{4}}{d_{1} + d_{2} + d_{3} + d_{4}}\\end{matrix}\\right]$"
      ],
      "text/plain": [
       "Matrix([\n",
       "[(d1*d2 + d1*d4 + d2*d3 + d3*d4)/(d1 + d2 + d3 + d4),                 (d1*d4 - d2*d3)/(d1 + d2 + d3 + d4),                 (d1*d2 - d3*d4)/(d1 + d2 + d3 + d4)],\n",
       "[                (d1*d4 - d2*d3)/(d1 + d2 + d3 + d4), (d1*d3 + d1*d4 + d2*d3 + d2*d4)/(d1 + d2 + d3 + d4),                 (d1*d3 - d2*d4)/(d1 + d2 + d3 + d4)],\n",
       "[                (d1*d2 - d3*d4)/(d1 + d2 + d3 + d4),                 (d1*d3 - d2*d4)/(d1 + d2 + d3 + d4), (d1*d2 + d1*d3 + d2*d4 + d3*d4)/(d1 + d2 + d3 + d4)]])"
      ]
     },
     "execution_count": 59,
     "metadata": {},
     "output_type": "execute_result"
    }
   ],
   "source": [
    "M_inv = M.inverse_ADJ() * 4\n",
    "M_inv.simplify()\n",
    "M_inv"
   ]
  },
  {
   "cell_type": "code",
   "execution_count": 60,
   "metadata": {},
   "outputs": [],
   "source": [
    "x1, x2 = symbols('x1 x2')\n",
    "x = Matrix([1, x1, x2])"
   ]
  },
  {
   "cell_type": "code",
   "execution_count": 63,
   "metadata": {},
   "outputs": [
    {
     "data": {
      "text/latex": [
       "$\\displaystyle \\frac{x_{1} \\left(d_{1} d_{4} - d_{2} d_{3}\\right)}{3 \\left(d_{1} + d_{2} + d_{3} + d_{4}\\right)} + \\frac{x_{1} \\left(\\frac{x_{1} \\left(d_{1} d_{3} + d_{1} d_{4} + d_{2} d_{3} + d_{2} d_{4}\\right)}{d_{1} + d_{2} + d_{3} + d_{4}} + \\frac{x_{2} \\left(d_{1} d_{3} - d_{2} d_{4}\\right)}{d_{1} + d_{2} + d_{3} + d_{4}} + \\frac{d_{1} d_{4} - d_{2} d_{3}}{d_{1} + d_{2} + d_{3} + d_{4}}\\right)}{3} + \\frac{x_{2} \\left(d_{1} d_{2} - d_{3} d_{4}\\right)}{3 \\left(d_{1} + d_{2} + d_{3} + d_{4}\\right)} + \\frac{x_{2} \\left(\\frac{x_{1} \\left(d_{1} d_{3} - d_{2} d_{4}\\right)}{d_{1} + d_{2} + d_{3} + d_{4}} + \\frac{x_{2} \\left(d_{1} d_{2} + d_{1} d_{3} + d_{2} d_{4} + d_{3} d_{4}\\right)}{d_{1} + d_{2} + d_{3} + d_{4}} + \\frac{d_{1} d_{2} - d_{3} d_{4}}{d_{1} + d_{2} + d_{3} + d_{4}}\\right)}{3} + \\frac{d_{1} d_{2} + d_{1} d_{4} + d_{2} d_{3} + d_{3} d_{4}}{3 \\left(d_{1} + d_{2} + d_{3} + d_{4}\\right)}$"
      ],
      "text/plain": [
       "x1*(d1*d4 - d2*d3)/(3*(d1 + d2 + d3 + d4)) + x1*(x1*(d1*d3 + d1*d4 + d2*d3 + d2*d4)/(d1 + d2 + d3 + d4) + x2*(d1*d3 - d2*d4)/(d1 + d2 + d3 + d4) + (d1*d4 - d2*d3)/(d1 + d2 + d3 + d4))/3 + x2*(d1*d2 - d3*d4)/(3*(d1 + d2 + d3 + d4)) + x2*(x1*(d1*d3 - d2*d4)/(d1 + d2 + d3 + d4) + x2*(d1*d2 + d1*d3 + d2*d4 + d3*d4)/(d1 + d2 + d3 + d4) + (d1*d2 - d3*d4)/(d1 + d2 + d3 + d4))/3 + (d1*d2 + d1*d4 + d2*d3 + d3*d4)/(3*(d1 + d2 + d3 + d4))"
      ]
     },
     "execution_count": 63,
     "metadata": {},
     "output_type": "execute_result"
    }
   ],
   "source": [
    "d = (x.T * M_inv * x)[0] * 1/3\n",
    "d.simplify()\n",
    "d "
   ]
  },
  {
   "cell_type": "code",
   "execution_count": 66,
   "metadata": {},
   "outputs": [],
   "source": [
    "equations = []\n",
    "for i in range(4):\n",
    "    expr = d.subs({\n",
    "        'x1': points[i, 1],\n",
    "        'x2': points[i, 2]\n",
    "    })\n",
    "    expr = simplify(expr)\n",
    "    equations.append(expr)"
   ]
  },
  {
   "cell_type": "code",
   "execution_count": 72,
   "metadata": {},
   "outputs": [
    {
     "data": {
      "text/latex": [
       "$\\displaystyle \\left[\\begin{matrix}\\frac{4 d_{1} \\left(d_{2} + d_{3} + d_{4}\\right)}{3 \\left(d_{1} + d_{2} + d_{3} + d_{4}\\right)}\\\\\\frac{4 d_{2} \\left(d_{1} + d_{3} + d_{4}\\right)}{3 \\left(d_{1} + d_{2} + d_{3} + d_{4}\\right)}\\\\\\frac{4 d_{3} \\left(d_{1} + d_{2} + d_{4}\\right)}{3 \\left(d_{1} + d_{2} + d_{3} + d_{4}\\right)}\\\\\\frac{4 d_{4} \\left(d_{1} + d_{2} + d_{3}\\right)}{3 \\left(d_{1} + d_{2} + d_{3} + d_{4}\\right)}\\end{matrix}\\right]$"
      ],
      "text/plain": [
       "Matrix([\n",
       "[4*d1*(d2 + d3 + d4)/(3*(d1 + d2 + d3 + d4))],\n",
       "[4*d2*(d1 + d3 + d4)/(3*(d1 + d2 + d3 + d4))],\n",
       "[4*d3*(d1 + d2 + d4)/(3*(d1 + d2 + d3 + d4))],\n",
       "[4*d4*(d1 + d2 + d3)/(3*(d1 + d2 + d3 + d4))]])"
      ]
     },
     "execution_count": 72,
     "metadata": {},
     "output_type": "execute_result"
    }
   ],
   "source": [
    "Matrix(equations)"
   ]
  },
  {
   "cell_type": "markdown",
   "metadata": {},
   "source": [
    "## check particular case"
   ]
  },
  {
   "cell_type": "code",
   "execution_count": 77,
   "metadata": {},
   "outputs": [],
   "source": [
    "case_subs = {\n",
    "    'd1': 2,\n",
    "    'd2': 1,\n",
    "    'd3': 1,\n",
    "    'd4': 1\n",
    "}\n",
    "\n",
    "M_inv_case = M_inv.subs(case_subs)"
   ]
  },
  {
   "cell_type": "code",
   "execution_count": 78,
   "metadata": {},
   "outputs": [
    {
     "data": {
      "text/latex": [
       "$\\displaystyle \\left[\\begin{matrix}\\frac{6}{5} & \\frac{1}{5} & \\frac{1}{5}\\\\\\frac{1}{5} & \\frac{6}{5} & \\frac{1}{5}\\\\\\frac{1}{5} & \\frac{1}{5} & \\frac{6}{5}\\end{matrix}\\right]$"
      ],
      "text/plain": [
       "Matrix([\n",
       "[6/5, 1/5, 1/5],\n",
       "[1/5, 6/5, 1/5],\n",
       "[1/5, 1/5, 6/5]])"
      ]
     },
     "execution_count": 78,
     "metadata": {},
     "output_type": "execute_result"
    }
   ],
   "source": [
    "M_inv_case"
   ]
  },
  {
   "cell_type": "code",
   "execution_count": 79,
   "metadata": {},
   "outputs": [
    {
     "data": {
      "text/latex": [
       "$\\displaystyle \\left[\\begin{matrix}\\frac{8}{5}\\\\\\frac{16}{15}\\\\\\frac{16}{15}\\\\\\frac{16}{15}\\end{matrix}\\right]$"
      ],
      "text/plain": [
       "Matrix([\n",
       "[  8/5],\n",
       "[16/15],\n",
       "[16/15],\n",
       "[16/15]])"
      ]
     },
     "execution_count": 79,
     "metadata": {},
     "output_type": "execute_result"
    }
   ],
   "source": [
    "Matrix(equations).subs(case_subs)"
   ]
  },
  {
   "cell_type": "markdown",
   "metadata": {},
   "source": [
    "## another view"
   ]
  },
  {
   "cell_type": "code",
   "execution_count": 81,
   "metadata": {},
   "outputs": [],
   "source": [
    "a, b, c, e = symbols('a b c e')\n",
    "T = Matrix([\n",
    "    [a, b, c],\n",
    "    [b, a, e],\n",
    "    [c, e, a]\n",
    "])"
   ]
  },
  {
   "cell_type": "code",
   "execution_count": 82,
   "metadata": {},
   "outputs": [],
   "source": [
    "T_inv = T.inverse_ADJ()"
   ]
  },
  {
   "cell_type": "code",
   "execution_count": 83,
   "metadata": {},
   "outputs": [
    {
     "data": {
      "text/latex": [
       "$\\displaystyle \\left[\\begin{matrix}\\frac{a^{2} - e^{2}}{a^{3} - a b^{2} - a c^{2} - a e^{2} + 2 b c e} & \\frac{- a b + c e}{a^{3} - a b^{2} - a c^{2} - a e^{2} + 2 b c e} & \\frac{- a c + b e}{a^{3} - a b^{2} - a c^{2} - a e^{2} + 2 b c e}\\\\\\frac{- a b + c e}{a^{3} - a b^{2} - a c^{2} - a e^{2} + 2 b c e} & \\frac{a^{2} - c^{2}}{a^{3} - a b^{2} - a c^{2} - a e^{2} + 2 b c e} & \\frac{- a e + b c}{a^{3} - a b^{2} - a c^{2} - a e^{2} + 2 b c e}\\\\\\frac{- a c + b e}{a^{3} - a b^{2} - a c^{2} - a e^{2} + 2 b c e} & \\frac{- a e + b c}{a^{3} - a b^{2} - a c^{2} - a e^{2} + 2 b c e} & \\frac{a^{2} - b^{2}}{a^{3} - a b^{2} - a c^{2} - a e^{2} + 2 b c e}\\end{matrix}\\right]$"
      ],
      "text/plain": [
       "Matrix([\n",
       "[(a**2 - e**2)/(a**3 - a*b**2 - a*c**2 - a*e**2 + 2*b*c*e),  (-a*b + c*e)/(a**3 - a*b**2 - a*c**2 - a*e**2 + 2*b*c*e),  (-a*c + b*e)/(a**3 - a*b**2 - a*c**2 - a*e**2 + 2*b*c*e)],\n",
       "[ (-a*b + c*e)/(a**3 - a*b**2 - a*c**2 - a*e**2 + 2*b*c*e), (a**2 - c**2)/(a**3 - a*b**2 - a*c**2 - a*e**2 + 2*b*c*e),  (-a*e + b*c)/(a**3 - a*b**2 - a*c**2 - a*e**2 + 2*b*c*e)],\n",
       "[ (-a*c + b*e)/(a**3 - a*b**2 - a*c**2 - a*e**2 + 2*b*c*e),  (-a*e + b*c)/(a**3 - a*b**2 - a*c**2 - a*e**2 + 2*b*c*e), (a**2 - b**2)/(a**3 - a*b**2 - a*c**2 - a*e**2 + 2*b*c*e)]])"
      ]
     },
     "execution_count": 83,
     "metadata": {},
     "output_type": "execute_result"
    }
   ],
   "source": [
    "T_inv"
   ]
  },
  {
   "cell_type": "code",
   "execution_count": 84,
   "metadata": {},
   "outputs": [
    {
     "data": {
      "text/latex": [
       "$\\displaystyle \\frac{x_{1} \\left(- a b + c e\\right)}{3 \\left(a^{3} - a b^{2} - a c^{2} - a e^{2} + 2 b c e\\right)} + \\frac{x_{1} \\left(\\frac{x_{1} \\left(a^{2} - c^{2}\\right)}{a^{3} - a b^{2} - a c^{2} - a e^{2} + 2 b c e} + \\frac{x_{2} \\left(- a e + b c\\right)}{a^{3} - a b^{2} - a c^{2} - a e^{2} + 2 b c e} + \\frac{- a b + c e}{a^{3} - a b^{2} - a c^{2} - a e^{2} + 2 b c e}\\right)}{3} + \\frac{x_{2} \\left(- a c + b e\\right)}{3 \\left(a^{3} - a b^{2} - a c^{2} - a e^{2} + 2 b c e\\right)} + \\frac{x_{2} \\left(\\frac{x_{1} \\left(- a e + b c\\right)}{a^{3} - a b^{2} - a c^{2} - a e^{2} + 2 b c e} + \\frac{x_{2} \\left(a^{2} - b^{2}\\right)}{a^{3} - a b^{2} - a c^{2} - a e^{2} + 2 b c e} + \\frac{- a c + b e}{a^{3} - a b^{2} - a c^{2} - a e^{2} + 2 b c e}\\right)}{3} + \\frac{a^{2} - e^{2}}{3 \\left(a^{3} - a b^{2} - a c^{2} - a e^{2} + 2 b c e\\right)}$"
      ],
      "text/plain": [
       "x1*(-a*b + c*e)/(3*(a**3 - a*b**2 - a*c**2 - a*e**2 + 2*b*c*e)) + x1*(x1*(a**2 - c**2)/(a**3 - a*b**2 - a*c**2 - a*e**2 + 2*b*c*e) + x2*(-a*e + b*c)/(a**3 - a*b**2 - a*c**2 - a*e**2 + 2*b*c*e) + (-a*b + c*e)/(a**3 - a*b**2 - a*c**2 - a*e**2 + 2*b*c*e))/3 + x2*(-a*c + b*e)/(3*(a**3 - a*b**2 - a*c**2 - a*e**2 + 2*b*c*e)) + x2*(x1*(-a*e + b*c)/(a**3 - a*b**2 - a*c**2 - a*e**2 + 2*b*c*e) + x2*(a**2 - b**2)/(a**3 - a*b**2 - a*c**2 - a*e**2 + 2*b*c*e) + (-a*c + b*e)/(a**3 - a*b**2 - a*c**2 - a*e**2 + 2*b*c*e))/3 + (a**2 - e**2)/(3*(a**3 - a*b**2 - a*c**2 - a*e**2 + 2*b*c*e))"
      ]
     },
     "execution_count": 84,
     "metadata": {},
     "output_type": "execute_result"
    }
   ],
   "source": [
    "(x.T * T_inv * x)[0] * 1/3"
   ]
  },
  {
   "cell_type": "code",
   "execution_count": 157,
   "metadata": {},
   "outputs": [],
   "source": [
    "T_inv = T_inv.subs({\n",
    "    a: M[0, 0],\n",
    "    b: M[0, 1],\n",
    "    c: M[0, 2],\n",
    "    e: M[1, 2]\n",
    "})\n",
    "T_inv.simplify()"
   ]
  },
  {
   "cell_type": "code",
   "execution_count": 158,
   "metadata": {
    "scrolled": true
   },
   "outputs": [
    {
     "data": {
      "text/latex": [
       "$\\displaystyle \\left[\\begin{matrix}\\frac{d_{1} d_{2} + d_{1} d_{4} + d_{2} d_{3} + d_{3} d_{4}}{4 \\left(d_{1} + d_{2} + d_{3} + d_{4}\\right)} & \\frac{\\frac{d_{1} d_{4}}{4} - \\frac{d_{2} d_{3}}{4}}{d_{1} + d_{2} + d_{3} + d_{4}} & \\frac{\\frac{d_{1} d_{2}}{4} - \\frac{d_{3} d_{4}}{4}}{d_{1} + d_{2} + d_{3} + d_{4}}\\\\\\frac{\\frac{d_{1} d_{4}}{4} - \\frac{d_{2} d_{3}}{4}}{d_{1} + d_{2} + d_{3} + d_{4}} & \\frac{d_{1} d_{3} + d_{1} d_{4} + d_{2} d_{3} + d_{2} d_{4}}{4 \\left(d_{1} + d_{2} + d_{3} + d_{4}\\right)} & \\frac{\\frac{d_{1} d_{3}}{4} - \\frac{d_{2} d_{4}}{4}}{d_{1} + d_{2} + d_{3} + d_{4}}\\\\\\frac{\\frac{d_{1} d_{2}}{4} - \\frac{d_{3} d_{4}}{4}}{d_{1} + d_{2} + d_{3} + d_{4}} & \\frac{\\frac{d_{1} d_{3}}{4} - \\frac{d_{2} d_{4}}{4}}{d_{1} + d_{2} + d_{3} + d_{4}} & \\frac{d_{1} d_{2} + d_{1} d_{3} + d_{2} d_{4} + d_{3} d_{4}}{4 \\left(d_{1} + d_{2} + d_{3} + d_{4}\\right)}\\end{matrix}\\right]$"
      ],
      "text/plain": [
       "Matrix([\n",
       "[(d1*d2 + d1*d4 + d2*d3 + d3*d4)/(4*(d1 + d2 + d3 + d4)),                 (d1*d4/4 - d2*d3/4)/(d1 + d2 + d3 + d4),                 (d1*d2/4 - d3*d4/4)/(d1 + d2 + d3 + d4)],\n",
       "[                (d1*d4/4 - d2*d3/4)/(d1 + d2 + d3 + d4), (d1*d3 + d1*d4 + d2*d3 + d2*d4)/(4*(d1 + d2 + d3 + d4)),                 (d1*d3/4 - d2*d4/4)/(d1 + d2 + d3 + d4)],\n",
       "[                (d1*d2/4 - d3*d4/4)/(d1 + d2 + d3 + d4),                 (d1*d3/4 - d2*d4/4)/(d1 + d2 + d3 + d4), (d1*d2 + d1*d3 + d2*d4 + d3*d4)/(4*(d1 + d2 + d3 + d4))]])"
      ]
     },
     "execution_count": 158,
     "metadata": {},
     "output_type": "execute_result"
    }
   ],
   "source": [
    "T_inv"
   ]
  }
 ],
 "metadata": {
  "kernelspec": {
   "display_name": "Python 3",
   "language": "python",
   "name": "python3"
  },
  "language_info": {
   "codemirror_mode": {
    "name": "ipython",
    "version": 3
   },
   "file_extension": ".py",
   "mimetype": "text/x-python",
   "name": "python",
   "nbconvert_exporter": "python",
   "pygments_lexer": "ipython3",
   "version": "3.7.4"
  }
 },
 "nbformat": 4,
 "nbformat_minor": 2
}
