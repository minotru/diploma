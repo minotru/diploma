{
 "cells": [
  {
   "cell_type": "code",
   "execution_count": 1,
   "metadata": {},
   "outputs": [],
   "source": [
    "import pandas as pd\n",
    "import numpy as np\n",
    "from matplotlib import pyplot as plt\n",
    "\n",
    "%matplotlib inline"
   ]
  },
  {
   "cell_type": "markdown",
   "metadata": {},
   "source": [
    "1. define exact regression line: \n",
    "    * $y^0 = f(x) = \\theta_0 + \\theta_1 x_1 + \\theta_2 x_2$\n",
    "2. define regression\n",
    "    * $y = f(x) + \\varepsilon(x)$\n",
    "    * $\\varepsilon(x)$ - not correlated errors with mean 0\n",
    "    * where $ -1 \\le x_1, x_2 \\le 1$\n",
    "    * $D(\\varepsilon(x)) = D(\\varepsilon(x_1, x_2)) = d(x_1, x_2)$\n",
    "2. say, we are going to do experiment in 3 points: $x^{(1)} = (1, 1), x^{(2)} = (-1, 1), x^{(3)} = (-1, -1)$\n",
    "3. set a-priori dispersions $d(x^{(1)}) = d_1, d(x^{(2)}) = d_2, d(x^{(3)}) = d_3$\n",
    "4. according to the theorem, these must fullfill to create $D$-optimal plan:\n",
    "    * $d(x_1, x_2) \\ge d_{lower}(x_1, x_2$, where\n",
    "    * $d_{lower}(x_1, x_2) = \\frac 1 4 (d_1 + d_3 + 2 d_1 x_1 - 2 d_3 x_2 - 2 d_2 x_1 x_2 + (d_1 + d_2)x_1^2 + (d_2 + d_3)x_2^2)$\n",
    "    * $d(x^{(i)}) = d_{lower}(x^{(i)}) = d_i, i = \\overline{1, 3}$\n",
    "    \n",
    "simulation:\n",
    "0. set $\\theta_0, \\theta_1, \\theta_2$\n",
    "1. set $d_1, d_2, d_3$\n",
    "2. generate $N$ points $(x_1, x_2)^{(i)} = x^{(i)}, i = \\overline {1 ,N}$ from $R^2[-1, 1]$\n",
    "3. generate $\\varepsilon_i$ from $N(0, d_{lower}(x^{(i)}; d_1, d_2, d_3)), i = \\overline{1, N}$\n",
    "4. generate $y_i = f(x^{(i)}) + \\varepsilon_i\\$"
   ]
  }
 ],
 "metadata": {
  "kernelspec": {
   "display_name": "Python 3",
   "language": "python",
   "name": "python3"
  },
  "language_info": {
   "codemirror_mode": {
    "name": "ipython",
    "version": 3
   },
   "file_extension": ".py",
   "mimetype": "text/x-python",
   "name": "python",
   "nbconvert_exporter": "python",
   "pygments_lexer": "ipython3",
   "version": "3.7.4"
  }
 },
 "nbformat": 4,
 "nbformat_minor": 2
}
