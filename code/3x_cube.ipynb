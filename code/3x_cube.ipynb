{
 "cells": [
  {
   "cell_type": "code",
   "execution_count": 2,
   "metadata": {},
   "outputs": [
    {
     "name": "stdout",
     "output_type": "stream",
     "text": [
      "Requirement already satisfied: sympy in c:\\programdata\\anaconda3\\lib\\site-packages (1.4)\n",
      "Requirement already satisfied: mpmath>=0.19 in c:\\programdata\\anaconda3\\lib\\site-packages (from sympy) (1.1.0)\n"
     ]
    }
   ],
   "source": [
    "!pip install sympy"
   ]
  },
  {
   "cell_type": "code",
   "execution_count": 1,
   "metadata": {},
   "outputs": [],
   "source": [
    "from sympy import *"
   ]
  },
  {
   "cell_type": "markdown",
   "metadata": {},
   "source": [
    "# V1"
   ]
  },
  {
   "cell_type": "code",
   "execution_count": 2,
   "metadata": {},
   "outputs": [],
   "source": [
    "a, b, c, e = symbols('a b c e')\n",
    "d1, d2, d3 = symbols('d1 d2 d3')\n",
    "x1, x2, x3 = symbols('x1 x2 x3')"
   ]
  },
  {
   "cell_type": "code",
   "execution_count": 3,
   "metadata": {},
   "outputs": [],
   "source": [
    "M = Matrix([\n",
    "    [a, b, c],\n",
    "    [b, a, e],\n",
    "    [c, e, a]\n",
    "]) / 3\n",
    "\n",
    "M_inv = M.inverse_ADJ()\n",
    "\n",
    "x = Matrix([x1, x2, x3])"
   ]
  },
  {
   "cell_type": "code",
   "execution_count": 5,
   "metadata": {},
   "outputs": [],
   "source": [
    "d =  x.T * M_inv * x / 3"
   ]
  },
  {
   "cell_type": "code",
   "execution_count": 6,
   "metadata": {},
   "outputs": [],
   "source": [
    "d = simplify(d)"
   ]
  },
  {
   "cell_type": "code",
   "execution_count": 7,
   "metadata": {},
   "outputs": [
    {
     "data": {
      "text/latex": [
       "$\\displaystyle \\left[\\begin{matrix}\\frac{x_{1} \\left(- x_{1} \\left(a^{2} - e^{2}\\right) + x_{2} \\left(a b - c e\\right) + x_{3} \\left(a c - b e\\right)\\right) + x_{2} \\left(x_{1} \\left(a b - c e\\right) - x_{2} \\left(a^{2} - c^{2}\\right) + x_{3} \\left(a e - b c\\right)\\right) + x_{3} \\left(x_{1} \\left(a c - b e\\right) + x_{2} \\left(a e - b c\\right) - x_{3} \\left(a^{2} - b^{2}\\right)\\right)}{- a^{3} + a b^{2} + a c^{2} + a e^{2} - 2 b c e}\\end{matrix}\\right]$"
      ],
      "text/plain": [
       "Matrix([[(x1*(-x1*(a**2 - e**2) + x2*(a*b - c*e) + x3*(a*c - b*e)) + x2*(x1*(a*b - c*e) - x2*(a**2 - c**2) + x3*(a*e - b*c)) + x3*(x1*(a*c - b*e) + x2*(a*e - b*c) - x3*(a**2 - b**2)))/(-a**3 + a*b**2 + a*c**2 + a*e**2 - 2*b*c*e)]])"
      ]
     },
     "execution_count": 7,
     "metadata": {},
     "output_type": "execute_result"
    }
   ],
   "source": [
    "d"
   ]
  },
  {
   "cell_type": "code",
   "execution_count": 8,
   "metadata": {},
   "outputs": [],
   "source": [
    "d = d[0]"
   ]
  },
  {
   "cell_type": "code",
   "execution_count": 9,
   "metadata": {},
   "outputs": [],
   "source": [
    "a_expr = 1/d1 + 1/d2 + 1/d3\n",
    "b_expr = 1/d1 - 1/d2 - 1/d3\n",
    "c_expr = 1/d1 + 1/d2 - 1/d3\n",
    "e_expr = 1/d1 - 1/d2 + 1/d3"
   ]
  },
  {
   "cell_type": "code",
   "execution_count": 10,
   "metadata": {},
   "outputs": [],
   "source": [
    "d = d.subs([(a, a_expr), (b, b_expr), (c, c_expr), (e, e_expr)]).simplify()"
   ]
  },
  {
   "cell_type": "code",
   "execution_count": 11,
   "metadata": {},
   "outputs": [
    {
     "data": {
      "text/latex": [
       "$\\displaystyle \\frac{d_{1} x_{1}^{2}}{4} + \\frac{d_{1} x_{1} x_{2}}{2} + \\frac{d_{1} x_{2}^{2}}{4} + \\frac{d_{2} x_{2}^{2}}{4} - \\frac{d_{2} x_{2} x_{3}}{2} + \\frac{d_{2} x_{3}^{2}}{4} + \\frac{d_{3} x_{1}^{2}}{4} - \\frac{d_{3} x_{1} x_{3}}{2} + \\frac{d_{3} x_{3}^{2}}{4}$"
      ],
      "text/plain": [
       "d1*x1**2/4 + d1*x1*x2/2 + d1*x2**2/4 + d2*x2**2/4 - d2*x2*x3/2 + d2*x3**2/4 + d3*x1**2/4 - d3*x1*x3/2 + d3*x3**2/4"
      ]
     },
     "execution_count": 11,
     "metadata": {},
     "output_type": "execute_result"
    }
   ],
   "source": [
    "d"
   ]
  },
  {
   "cell_type": "code",
   "execution_count": 12,
   "metadata": {},
   "outputs": [],
   "source": [
    "points = [\n",
    "    [1, 1, 1],\n",
    "    [1, -1, 1],\n",
    "    [1, -1, -1]\n",
    "]"
   ]
  },
  {
   "cell_type": "code",
   "execution_count": 13,
   "metadata": {},
   "outputs": [
    {
     "data": {
      "text/plain": [
       "[d1, d2, d3]"
      ]
     },
     "execution_count": 13,
     "metadata": {},
     "output_type": "execute_result"
    }
   ],
   "source": [
    "results = []\n",
    "for point in points:\n",
    "    result = d.subs(list(zip([x1, x2, x3], point)))\n",
    "    results.append(result)\n",
    "    \n",
    "results"
   ]
  },
  {
   "cell_type": "code",
   "execution_count": 14,
   "metadata": {},
   "outputs": [
    {
     "data": {
      "text/latex": [
       "$\\displaystyle d{\\left(x_{1},x_{2},x_{3} \\right)} \\geq \\frac{d_{1} x_{1}^{2}}{4} + \\frac{d_{1} x_{1} x_{2}}{2} + \\frac{d_{1} x_{2}^{2}}{4} + \\frac{d_{2} x_{2}^{2}}{4} - \\frac{d_{2} x_{2} x_{3}}{2} + \\frac{d_{2} x_{3}^{2}}{4} + \\frac{d_{3} x_{1}^{2}}{4} - \\frac{d_{3} x_{1} x_{3}}{2} + \\frac{d_{3} x_{3}^{2}}{4}$"
      ],
      "text/plain": [
       "d(x1, x2, x3) >= d1*x1**2/4 + d1*x1*x2/2 + d1*x2**2/4 + d2*x2**2/4 - d2*x2*x3/2 + d2*x3**2/4 + d3*x1**2/4 - d3*x1*x3/2 + d3*x3**2/4"
      ]
     },
     "execution_count": 14,
     "metadata": {},
     "output_type": "execute_result"
    }
   ],
   "source": [
    "d_f = Function('d')\n",
    "d_f(x1, x2, x3) >= d"
   ]
  },
  {
   "cell_type": "markdown",
   "metadata": {},
   "source": [
    "# V2"
   ]
  },
  {
   "cell_type": "markdown",
   "metadata": {},
   "source": [
    "## Common case"
   ]
  },
  {
   "cell_type": "markdown",
   "metadata": {},
   "source": [
    "$$\\frac{1}{d(x_1, x_2)} (x_1, x_2, x_3) M^{-1}(\\varepsilon^0) (x_1, x_2,  x_3)^T \\le 3$$"
   ]
  },
  {
   "cell_type": "code",
   "execution_count": 149,
   "metadata": {},
   "outputs": [],
   "source": [
    "N = 3\n",
    "n_points = 3\n",
    "\n",
    "d0, d1, d2 = symbols('d0 d1 d2')\n",
    "d = Matrix([d0, d1, d2])\n",
    "X = Matrix(MatrixSymbol('X', N, n_points)).T"
   ]
  },
  {
   "cell_type": "code",
   "execution_count": 150,
   "metadata": {},
   "outputs": [
    {
     "data": {
      "text/latex": [
       "$\\displaystyle \\left[\\begin{matrix}X_{0, 0} & X_{1, 0} & X_{2, 0}\\\\X_{0, 1} & X_{1, 1} & X_{2, 1}\\\\X_{0, 2} & X_{1, 2} & X_{2, 2}\\end{matrix}\\right]$"
      ],
      "text/plain": [
       "Matrix([\n",
       "[X[0, 0], X[1, 0], X[2, 0]],\n",
       "[X[0, 1], X[1, 1], X[2, 1]],\n",
       "[X[0, 2], X[1, 2], X[2, 2]]])"
      ]
     },
     "execution_count": 150,
     "metadata": {},
     "output_type": "execute_result"
    }
   ],
   "source": [
    "X"
   ]
  },
  {
   "cell_type": "code",
   "execution_count": 151,
   "metadata": {},
   "outputs": [],
   "source": [
    "M = Matrix.zeros(N)\n",
    "for i in range(n_points):\n",
    "    M +=  X[:, i] * X[:, i].T / d[i]"
   ]
  },
  {
   "cell_type": "code",
   "execution_count": 152,
   "metadata": {},
   "outputs": [],
   "source": [
    "M_exact = M"
   ]
  },
  {
   "cell_type": "code",
   "execution_count": 153,
   "metadata": {},
   "outputs": [
    {
     "data": {
      "text/latex": [
       "$\\displaystyle \\left[\\begin{matrix}\\frac{X_{2, 0}^{2}}{d_{2}} + \\frac{X_{1, 0}^{2}}{d_{1}} + \\frac{X_{0, 0}^{2}}{d_{0}} & \\frac{X_{2, 0} X_{2, 1}}{d_{2}} + \\frac{X_{1, 0} X_{1, 1}}{d_{1}} + \\frac{X_{0, 0} X_{0, 1}}{d_{0}} & \\frac{X_{2, 0} X_{2, 2}}{d_{2}} + \\frac{X_{1, 0} X_{1, 2}}{d_{1}} + \\frac{X_{0, 0} X_{0, 2}}{d_{0}}\\\\\\frac{X_{2, 0} X_{2, 1}}{d_{2}} + \\frac{X_{1, 0} X_{1, 1}}{d_{1}} + \\frac{X_{0, 0} X_{0, 1}}{d_{0}} & \\frac{X_{2, 1}^{2}}{d_{2}} + \\frac{X_{1, 1}^{2}}{d_{1}} + \\frac{X_{0, 1}^{2}}{d_{0}} & \\frac{X_{2, 1} X_{2, 2}}{d_{2}} + \\frac{X_{1, 1} X_{1, 2}}{d_{1}} + \\frac{X_{0, 1} X_{0, 2}}{d_{0}}\\\\\\frac{X_{2, 0} X_{2, 2}}{d_{2}} + \\frac{X_{1, 0} X_{1, 2}}{d_{1}} + \\frac{X_{0, 0} X_{0, 2}}{d_{0}} & \\frac{X_{2, 1} X_{2, 2}}{d_{2}} + \\frac{X_{1, 1} X_{1, 2}}{d_{1}} + \\frac{X_{0, 1} X_{0, 2}}{d_{0}} & \\frac{X_{2, 2}^{2}}{d_{2}} + \\frac{X_{1, 2}^{2}}{d_{1}} + \\frac{X_{0, 2}^{2}}{d_{0}}\\end{matrix}\\right]$"
      ],
      "text/plain": [
       "Matrix([\n",
       "[               X[2, 0]**2/d2 + X[1, 0]**2/d1 + X[0, 0]**2/d0, X[2, 0]*X[2, 1]/d2 + X[1, 0]*X[1, 1]/d1 + X[0, 0]*X[0, 1]/d0, X[2, 0]*X[2, 2]/d2 + X[1, 0]*X[1, 2]/d1 + X[0, 0]*X[0, 2]/d0],\n",
       "[X[2, 0]*X[2, 1]/d2 + X[1, 0]*X[1, 1]/d1 + X[0, 0]*X[0, 1]/d0,                X[2, 1]**2/d2 + X[1, 1]**2/d1 + X[0, 1]**2/d0, X[2, 1]*X[2, 2]/d2 + X[1, 1]*X[1, 2]/d1 + X[0, 1]*X[0, 2]/d0],\n",
       "[X[2, 0]*X[2, 2]/d2 + X[1, 0]*X[1, 2]/d1 + X[0, 0]*X[0, 2]/d0, X[2, 1]*X[2, 2]/d2 + X[1, 1]*X[1, 2]/d1 + X[0, 1]*X[0, 2]/d0,                X[2, 2]**2/d2 + X[1, 2]**2/d1 + X[0, 2]**2/d0]])"
      ]
     },
     "execution_count": 153,
     "metadata": {},
     "output_type": "execute_result"
    }
   ],
   "source": [
    "M_exact"
   ]
  },
  {
   "cell_type": "code",
   "execution_count": 163,
   "metadata": {},
   "outputs": [],
   "source": [
    "a, b, c, e = symbols('a b c e')\n",
    "x0, x1, x2 = symbols('x0 x1 x2')\n",
    "\n",
    "M = Matrix([\n",
    "    [a, b, c],\n",
    "    [b, a, e],\n",
    "    [c, e, a]\n",
    "]) / 3\n",
    "\n",
    "M_inv = M.inverse_ADJ()\n",
    "\n",
    "x = Matrix([x1, x2, x3])\n",
    "\n",
    "df =  x.T * M_inv * x / 3\n",
    "df.simplify()"
   ]
  },
  {
   "cell_type": "code",
   "execution_count": 164,
   "metadata": {},
   "outputs": [
    {
     "data": {
      "text/latex": [
       "$\\displaystyle \\left[\\begin{matrix}\\frac{x_{1} \\left(- x_{1} \\left(a^{2} - e^{2}\\right) + x_{2} \\left(a b - c e\\right) + x_{3} \\left(a c - b e\\right)\\right) + x_{2} \\left(x_{1} \\left(a b - c e\\right) - x_{2} \\left(a^{2} - c^{2}\\right) + x_{3} \\left(a e - b c\\right)\\right) + x_{3} \\left(x_{1} \\left(a c - b e\\right) + x_{2} \\left(a e - b c\\right) - x_{3} \\left(a^{2} - b^{2}\\right)\\right)}{- a^{3} + a b^{2} + a c^{2} + a e^{2} - 2 b c e}\\end{matrix}\\right]$"
      ],
      "text/plain": [
       "Matrix([[(x1*(-x1*(a**2 - e**2) + x2*(a*b - c*e) + x3*(a*c - b*e)) + x2*(x1*(a*b - c*e) - x2*(a**2 - c**2) + x3*(a*e - b*c)) + x3*(x1*(a*c - b*e) + x2*(a*e - b*c) - x3*(a**2 - b**2)))/(-a**3 + a*b**2 + a*c**2 + a*e**2 - 2*b*c*e)]])"
      ]
     },
     "execution_count": 164,
     "metadata": {},
     "output_type": "execute_result"
    }
   ],
   "source": [
    "df"
   ]
  },
  {
   "cell_type": "markdown",
   "metadata": {},
   "source": [
    "# Plot the cube "
   ]
  },
  {
   "cell_type": "code",
   "execution_count": 167,
   "metadata": {},
   "outputs": [
    {
     "data": {
      "image/png": "[encoded data removed]",
      "text/plain": [
       "<Figure size 432x288 with 1 Axes>"
      ]
     },
     "metadata": {
      "needs_background": "light"
     },
     "output_type": "display_data"
    }
   ],
   "source": [
    "from mpl_toolkits.mplot3d import Axes3D\n",
    "import matplotlib.pyplot as plt\n",
    "import numpy as np\n",
    "from itertools import product, combinations\n",
    "\n",
    "\n",
    "fig = plt.figure()\n",
    "ax = fig.gca(projection='3d')\n",
    "# ax.set_aspect(\"equal\")\n",
    "\n",
    "# draw cube\n",
    "r = [-1, 1]\n",
    "for s, e in combinations(np.array(list(product(r, r, r))), 2):\n",
    "    if np.sum(np.abs(s-e)) == r[1]-r[0]:\n",
    "        ax.plot3D(*zip(s, e), color=\"b\")\n",
    "        "
   ]
  }
 ],
 "metadata": {
  "kernelspec": {
   "display_name": "Python 3",
   "language": "python",
   "name": "python3"
  },
  "toc": {
   "base_numbering": 1,
   "nav_menu": {},
   "number_sections": true,
   "sideBar": true,
   "skip_h1_title": false,
   "title_cell": "Table of Contents",
   "title_sidebar": "Contents",
   "toc_cell": false,
   "toc_position": {},
   "toc_section_display": true,
   "toc_window_display": false
  }
 },
 "nbformat": 4,
 "nbformat_minor": 2
}
