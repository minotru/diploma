{
 "cells": [
  {
   "cell_type": "markdown",
   "metadata": {},
   "source": [
    "# Проверка того, что план является оптимальным именно в вершинах квадрата"
   ]
  },
  {
   "cell_type": "code",
   "execution_count": null,
   "metadata": {
    "collapsed": true
   },
   "outputs": [],
   "source": [
    "import math\n",
    "import numpy as np"
   ]
  },
  {
   "cell_type": "code",
   "execution_count": null,
   "metadata": {
    "collapsed": true
   },
   "outputs": [],
   "source": [
    "x_from = -1\n",
    "x_to = 1\n",
    "h = 0.5\n",
    "n = int((x_to - x_from) / h)"
   ]
  },
  {
   "cell_type": "code",
   "execution_count": 13,
   "metadata": {
    "collapsed": true
   },
   "outputs": [],
   "source": [
    "def d_134(x1, x2):\n",
    "    return 2 - x1 + 3*x2 - 2*x1*x2 + 1.5*x1**2 + 2.5*x2**2\n",
    "\n",
    "def d_234(x1, x2):\n",
    "    return 2 + 2*x1 + 2*x2 + x1*x2 + 1.5*(x1**2) + 1.5*(x2**2) \n",
    "\n",
    "def d_123(x1, x2):\n",
    "    return 2 + 3*x1 - x2 - 2*x1*x2 + 2.5*x1**2 + 1.5*x2**2\n",
    "\n",
    "def d_124(x1, x2):\n",
    "    return 2 - x1 + 3*x2 - 2*x1*x2 + 1.5*x1**2 + 2.5*x2**2\n",
    "\n",
    "def make_point(i, j):\n",
    "    return (x_from + i*h, x_from + j*h)\n",
    "\n",
    "def M(x, d):\n",
    "    matrix = np.zeros((3, 3))\n",
    "    for i in range(3):\n",
    "        v = [[1, x[i][0], x[i][1]]]\n",
    "        d_i = d(x[i][0], x[i][1])\n",
    "        matrix += (1/d_i) * np.matmul(np.transpose(v), v)\n",
    "    return matrix"
   ]
  },
  {
   "cell_type": "code",
   "execution_count": 14,
   "metadata": {},
   "outputs": [
    {
     "name": "stdout",
     "output_type": "stream",
     "text": [
      "Plan 1, 2, 3\n"
     ]
    },
    {
     "name": "stderr",
     "output_type": "stream",
     "text": [
      "C:\\ProgramData\\Anaconda3\\lib\\site-packages\\numpy\\linalg\\linalg.py:1821: RuntimeWarning: invalid value encountered in det\n",
      "  r = _umath_linalg.det(a, signature=signature)\n"
     ]
    },
    {
     "name": "stdout",
     "output_type": "stream",
     "text": [
      "[(-1.0, -1.0), (-1.0, 1.0), (1.0, 1.0)] 0.333333333333\n",
      "Plan 1, 2, 4\n",
      "[(-1.0, -1.0), (1.0, 1.0), (1.0, -1.0)] 0.333333333333\n",
      "Plan 1, 3, 4\n",
      "[(-1.0, -1.0), (1.0, 1.0), (1.0, -1.0)] 0.333333333333\n",
      "Plan 2, 3, 4\n",
      "[(-1.0, -1.0), (-1.0, 1.0), (1.0, -1.0)] 0.5\n"
     ]
    }
   ],
   "source": [
    "eps = 10e-6\n",
    "\n",
    "def test(d):\n",
    "    max_points = []\n",
    "    max_M_det = float('-inf')\n",
    "    for i1 in range(0, n + 1):\n",
    "        for j1 in range(0, n + 1):\n",
    "            for i2 in range(0, n + 1):\n",
    "                for j2 in range(0, n + 1):\n",
    "                    for i3 in range(0, n + 1):\n",
    "                        for j3 in range(0, n + 1):\n",
    "                            x1 = make_point(i1, j1)\n",
    "                            x2 = make_point(i2, j2)\n",
    "                            x3 = make_point(i3, j3)\n",
    "                       \n",
    "                            M_det = abs(np.linalg.det(M([x1, x2, x3], d)))\n",
    "                            if M_det > max_M_det:                          \n",
    "                                max_M_det = M_det\n",
    "                                max_points = [x1, x2, x3]                                      \n",
    "    print(max_points, max_M_det)\n",
    "    \n",
    "print('Plan 1, 2, 3')\n",
    "test(d_123)\n",
    "print('Plan 1, 2, 4')\n",
    "test(d_124)\n",
    "print('Plan 1, 3, 4')\n",
    "test(d_134)\n",
    "print('Plan 2, 3, 4')\n",
    "test(d_234)"
   ]
  },
  {
   "cell_type": "code",
   "execution_count": null,
   "metadata": {
    "collapsed": true
   },
   "outputs": [],
   "source": [
    "l1 = 1/6\n",
    "l2 = 1/4\n",
    "l4 = 1/4\n",
    "a = l4 + l1 + l2\n",
    "b = l4 + l1 - l2\n",
    "c = -l4 + l1 + l2\n",
    "e = -l4 + l1 - l2\n",
    "A = a**3 + 2*b*c*e - a*(b**2 + c**2 + e**2)\n",
    "c0 = (a**2 - e**2) / A\n",
    "c1 = 2*(c*e - a*b) / A\n",
    "c2 = 2*(b*e - a*c) / A\n",
    "c12 = 2*(b*c - a*e) / A\n",
    "c1_2 = (a**2 - c**2) / A\n",
    "c2_2 = (a**2 - b**2) / A\n",
    "print(c0, c1, c2, c12, c1_2, c2_2)"
   ]
  }
 ],
 "metadata": {
  "kernelspec": {
   "display_name": "Python 3",
   "language": "python",
   "name": "python3"
  },
  "language_info": {
   "codemirror_mode": {
    "name": "ipython",
    "version": 3
   },
   "file_extension": ".py",
   "mimetype": "text/x-python",
   "name": "python",
   "nbconvert_exporter": "python",
   "pygments_lexer": "ipython3",
   "version": "3.6.1"
  }
 },
 "nbformat": 4,
 "nbformat_minor": 2
}
