{
 "cells": [
  {
   "cell_type": "code",
   "execution_count": 1,
   "metadata": {},
   "outputs": [],
   "source": [
    "x_points = [\n",
    "    (1, 1),\n",
    "    (-1, 1),\n",
    "    (-1, -1),\n",
    "    (1, -1)\n",
    "]\n",
    "\n",
    "\n",
    "def M_det(a, b, c, e):\n",
    "    return a**3 + 2*b*c*e - a*(b**2 + c**2 + e**2)\n",
    "\n",
    "\n",
    "def M_det_raw(n1, d1, n2, d2, n3, d3, n4, d4):\n",
    "    l1 = n1 / d1\n",
    "    l2 = n2 / d2\n",
    "    l3 = n3 / d3\n",
    "    l4 = n4 / d4\n",
    "    a = l1 + l2 + l3 + l4\n",
    "    b = l1 - l2 - l3 + l4\n",
    "    c = l1 + l2 - l3 - l4\n",
    "    e = l1 - l2 + l3 - l4\n",
    "    return M_det(a, b, c, e)\n",
    "\n",
    "\n",
    "def make_d_surface(a0, a1, a2):\n",
    "    return lambda x1, x2: a0 + a1*x1 + a2*x2\n",
    "\n",
    "\n",
    "def place_observations(d_surface, n):\n",
    "    d_values = [d_surface(*x_point) for x_point in x_points]\n",
    "    \n",
    "    \n",
    "    max_abs_M_det = -1\n",
    "    best_placements = []\n",
    "    for n1 in range(0, n):\n",
    "        for n2 in range(0, n):\n",
    "            for n3 in range(0, n):\n",
    "                if not 1 <= n1 + n2 + n3 <= n:\n",
    "                    continue\n",
    "                n4 = n - (n1 + n2 + n3)\n",
    "                ns = [n1, n2, n3, n4]\n",
    "                abs_M_det = abs(M_det_raw(\n",
    "                    n1, d_values[0],\n",
    "                    n2, d_values[1],\n",
    "                    n3, d_values[2],\n",
    "                    n4, d_values[3]\n",
    "                ))\n",
    "                if max_abs_M_det < abs_M_det:\n",
    "                    best_placements = [ns]\n",
    "                    max_abs_M_det = abs_M_det\n",
    "                elif abs(max_abs_M_det - abs_M_det) < 0.0001:\n",
    "                    best_placements.append(ns)\n",
    "    \n",
    "    return best_placements\n",
    "    \n",
    "    "
   ]
  },
  {
   "cell_type": "markdown",
   "metadata": {},
   "source": [
    "# surface"
   ]
  },
  {
   "cell_type": "code",
   "execution_count": 2,
   "metadata": {},
   "outputs": [
    {
     "name": "stdout",
     "output_type": "stream",
     "text": [
      "n = 5\n",
      "d(x1, x2) >= 40 + 0*x1 + 0*x2\n",
      "best placements:  [[1, 1, 1, 2], [1, 1, 2, 1], [1, 2, 1, 1], [2, 1, 1, 1]]\n",
      "d(x1, x2) >= 40 + -1*x1 + 0*x2\n",
      "best placements:  [[1, 1, 1, 2], [1, 1, 2, 1], [1, 2, 1, 1], [2, 1, 1, 1]]\n",
      "d(x1, x2) >= 40 + -4*x1 + 0*x2\n",
      "best placements:  [[1, 1, 1, 2], [1, 1, 2, 1], [1, 2, 1, 1], [2, 1, 1, 1]]\n",
      "d(x1, x2) >= 40 + -8*x1 + 0*x2\n",
      "best placements:  [[1, 1, 1, 2], [2, 1, 1, 1]]\n",
      "d(x1, x2) >= 40 + -12*x1 + 0*x2\n",
      "best placements:  [[1, 1, 1, 2], [2, 1, 1, 1]]\n",
      "d(x1, x2) >= 40 + -30*x1 + 0*x2\n",
      "best placements:  [[1, 1, 1, 2], [2, 1, 1, 1]]\n",
      "d(x1, x2) >= 40 + -39*x1 + 0*x2\n",
      "best placements:  [[1, 1, 1, 2], [2, 1, 1, 1]]\n",
      "d(x1, x2) >= 40 + -39.5*x1 + 0*x2\n",
      "best placements:  [[2, 1, 1, 1]]\n"
     ]
    }
   ],
   "source": [
    "d_surfaces_params = [\n",
    "    (40, 0, 0),\n",
    "    (40, -1, 0),\n",
    "    (40, -4, 0),\n",
    "    (40, -8, 0),\n",
    "    (40, -12, 0),\n",
    "    (40, -30, 0),\n",
    "    (40, -39, 0),\n",
    "    (40, -39.5, 0)\n",
    "]\n",
    "\n",
    "n = 5\n",
    "\n",
    "print(f'n = {n}')\n",
    "for d_surface_params in d_surfaces_params:\n",
    "    d_surface = make_d_surface(*d_surface_params)\n",
    "    best_placement = place_observations(d_surface, n)\n",
    "    print('d(x1, x2) >= {} + {}*x1 + {}*x2'.format(*d_surface_params))\n",
    "    print('best placements: ', best_placement)"
   ]
  },
  {
   "cell_type": "markdown",
   "metadata": {},
   "source": [
    "# another surface\n",
    "$ L = (\\frac m 2 - 20) x_1 + 0 x_2 + (\\frac m 2 + 20)$"
   ]
  },
  {
   "cell_type": "code",
   "execution_count": 9,
   "metadata": {},
   "outputs": [
    {
     "name": "stdout",
     "output_type": "stream",
     "text": [
      "n = 5\n",
      "\n",
      "m = 1\n",
      "d(x1, x2) >= 20.5 + -19.5*x1 + 0*x2\n",
      "best placements:  [[1, 1, 1, 2], [2, 1, 1, 1]]\n",
      "\n",
      "m = 10\n",
      "d(x1, x2) >= 25.0 + -15.0*x1 + 0*x2\n",
      "best placements:  [[1, 1, 1, 2], [2, 1, 1, 1]]\n",
      "\n",
      "m = 20\n",
      "d(x1, x2) >= 30.0 + -10.0*x1 + 0*x2\n",
      "best placements:  [[1, 1, 1, 2], [2, 1, 1, 1]]\n",
      "\n",
      "m = 30\n",
      "d(x1, x2) >= 35.0 + -5.0*x1 + 0*x2\n",
      "best placements:  [[1, 1, 1, 2], [2, 1, 1, 1]]\n",
      "\n",
      "m = 39.5\n",
      "d(x1, x2) >= 39.75 + -0.25*x1 + 0*x2\n",
      "best placements:  [[1, 1, 1, 2], [1, 1, 2, 1], [1, 2, 1, 1], [2, 1, 1, 1]]\n",
      "\n",
      "m = 40\n",
      "d(x1, x2) >= 40.0 + 0.0*x1 + 0*x2\n",
      "best placements:  [[1, 1, 1, 2], [1, 1, 2, 1], [1, 2, 1, 1], [2, 1, 1, 1]]\n",
      "\n"
     ]
    }
   ],
   "source": [
    "ms = [\n",
    "    1,\n",
    "    10,\n",
    "    20,\n",
    "    30,\n",
    "    39.5,\n",
    "    40\n",
    "]\n",
    "\n",
    "d_surfaces_params = [\n",
    "    (m / 2 + 20, m / 2 - 20, 0, )\n",
    "    for m in ms\n",
    "]\n",
    "\n",
    "n = 5\n",
    "\n",
    "print(f'n = {n}')\n",
    "print()\n",
    "\n",
    "for m, d_surface_params in zip(ms, d_surfaces_params):\n",
    "    d_surface = make_d_surface(*d_surface_params)\n",
    "    best_placement = place_observations(d_surface, n)\n",
    "    print(f'm = {m}')\n",
    "    print('d(x1, x2) >= {} + {}*x1 + {}*x2'.format(*d_surface_params))\n",
    "    print('best placements: ', best_placement)\n",
    "    print()"
   ]
  }
 ],
 "metadata": {
  "kernelspec": {
   "display_name": "Python 3",
   "language": "python",
   "name": "python3"
  },
  "language_info": {
   "codemirror_mode": {
    "name": "ipython",
    "version": 3
   },
   "file_extension": ".py",
   "mimetype": "text/x-python",
   "name": "python",
   "nbconvert_exporter": "python",
   "pygments_lexer": "ipython3",
   "version": "3.7.4"
  }
 },
 "nbformat": 4,
 "nbformat_minor": 2
}
